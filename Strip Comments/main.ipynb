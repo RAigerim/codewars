{
 "cells": [
  {
   "cell_type": "code",
   "execution_count": 58,
   "id": "1421cdc8",
   "metadata": {
    "scrolled": true
   },
   "outputs": [],
   "source": [
    "def strip_comments(strng, markers):\n",
    "    \n",
    "    lst = strng.split('\\n')\n",
    "    \n",
    "    for i in range(len(lst)):\n",
    "        for m in markers:\n",
    "            lst[i] = lst[i].split(m)[0].rstrip()\n",
    "    \n",
    "    return '\\n'.join([s for s in lst])"
   ]
  },
  {
   "cell_type": "code",
   "execution_count": 61,
   "id": "14f59203",
   "metadata": {},
   "outputs": [
    {
     "name": "stdout",
     "output_type": "stream",
     "text": [
      "apples, pears\n",
      "grapes\n",
      "bananas\n",
      "\n",
      "a\n",
      "c\n",
      "d\n",
      "\n",
      " a\n",
      "c\n",
      "d\n"
     ]
    }
   ],
   "source": [
    "print(strip_comments('apples, pears # and bananas\\ngrapes\\nbananas !apples', ['#', '!'])) # 'apples, pears\\ngrapes\\nbananas'\n",
    "print()\n",
    "print(strip_comments('a #b\\nc\\nd $e f g', ['#', '$'])) # 'a\\nc\\nd'\n",
    "print()\n",
    "print(strip_comments(' a #b\\nc\\nd $e f g', ['#', '$'])) # ' a\\nc\\nd'"
   ]
  }
 ],
 "metadata": {
  "kernelspec": {
   "display_name": "Python 3 (ipykernel)",
   "language": "python",
   "name": "python3"
  },
  "language_info": {
   "codemirror_mode": {
    "name": "ipython",
    "version": 3
   },
   "file_extension": ".py",
   "mimetype": "text/x-python",
   "name": "python",
   "nbconvert_exporter": "python",
   "pygments_lexer": "ipython3",
   "version": "3.9.12"
  }
 },
 "nbformat": 4,
 "nbformat_minor": 5
}
